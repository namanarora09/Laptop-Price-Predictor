{
 "cells": [
  {
   "cell_type": "code",
   "execution_count": 1,
   "id": "00c23cd3",
   "metadata": {},
   "outputs": [],
   "source": [
    "import pandas as pd\n",
    "import numpy as np\n",
    "import warnings\n",
    "warnings.filterwarnings('ignore')"
   ]
  },
  {
   "cell_type": "code",
   "execution_count": 2,
   "id": "b0e808cc",
   "metadata": {},
   "outputs": [
    {
     "data": {
      "text/html": [
       "<div>\n",
       "<style scoped>\n",
       "    .dataframe tbody tr th:only-of-type {\n",
       "        vertical-align: middle;\n",
       "    }\n",
       "\n",
       "    .dataframe tbody tr th {\n",
       "        vertical-align: top;\n",
       "    }\n",
       "\n",
       "    .dataframe thead th {\n",
       "        text-align: right;\n",
       "    }\n",
       "</style>\n",
       "<table border=\"1\" class=\"dataframe\">\n",
       "  <thead>\n",
       "    <tr style=\"text-align: right;\">\n",
       "      <th></th>\n",
       "      <th>Brand</th>\n",
       "      <th>Processor Type</th>\n",
       "      <th>Operating System</th>\n",
       "      <th>RAM Type</th>\n",
       "      <th>RAM Size</th>\n",
       "      <th>Disc Type</th>\n",
       "      <th>Disc Size</th>\n",
       "      <th>MRP</th>\n",
       "    </tr>\n",
       "  </thead>\n",
       "  <tbody>\n",
       "    <tr>\n",
       "      <th>0</th>\n",
       "      <td>Lenovo</td>\n",
       "      <td>Intel Core i3</td>\n",
       "      <td>Windows 11</td>\n",
       "      <td>DDR4</td>\n",
       "      <td>8GB</td>\n",
       "      <td>SSD</td>\n",
       "      <td>256GB</td>\n",
       "      <td>36990</td>\n",
       "    </tr>\n",
       "    <tr>\n",
       "      <th>1</th>\n",
       "      <td>Lenovo</td>\n",
       "      <td>Intel Core i3</td>\n",
       "      <td>Windows 11</td>\n",
       "      <td>DDR4</td>\n",
       "      <td>8GB</td>\n",
       "      <td>SSD</td>\n",
       "      <td>512GB</td>\n",
       "      <td>39990</td>\n",
       "    </tr>\n",
       "    <tr>\n",
       "      <th>2</th>\n",
       "      <td>ASUS</td>\n",
       "      <td>Intel Core i3</td>\n",
       "      <td>Windows 11</td>\n",
       "      <td>DDR4</td>\n",
       "      <td>8GB</td>\n",
       "      <td>SSD</td>\n",
       "      <td>512GB</td>\n",
       "      <td>32990</td>\n",
       "    </tr>\n",
       "    <tr>\n",
       "      <th>3</th>\n",
       "      <td>HP</td>\n",
       "      <td>AMD Ryzen 5 Hexa Core</td>\n",
       "      <td>Windows 10</td>\n",
       "      <td>DDR4</td>\n",
       "      <td>8GB</td>\n",
       "      <td>SSD</td>\n",
       "      <td>512GB</td>\n",
       "      <td>49990</td>\n",
       "    </tr>\n",
       "    <tr>\n",
       "      <th>4</th>\n",
       "      <td>ASUS</td>\n",
       "      <td>Intel Core i5</td>\n",
       "      <td>Windows 11</td>\n",
       "      <td>DDR4</td>\n",
       "      <td>8GB</td>\n",
       "      <td>SSD</td>\n",
       "      <td>512GB</td>\n",
       "      <td>49990</td>\n",
       "    </tr>\n",
       "  </tbody>\n",
       "</table>\n",
       "</div>"
      ],
      "text/plain": [
       "    Brand         Processor Type Operating System RAM Type RAM Size Disc Type  \\\n",
       "0  Lenovo          Intel Core i3       Windows 11     DDR4      8GB       SSD   \n",
       "1  Lenovo          Intel Core i3       Windows 11     DDR4      8GB       SSD   \n",
       "2    ASUS          Intel Core i3       Windows 11     DDR4      8GB       SSD   \n",
       "3      HP  AMD Ryzen 5 Hexa Core       Windows 10     DDR4      8GB       SSD   \n",
       "4    ASUS          Intel Core i5       Windows 11     DDR4      8GB       SSD   \n",
       "\n",
       "  Disc Size    MRP  \n",
       "0     256GB  36990  \n",
       "1     512GB  39990  \n",
       "2     512GB  32990  \n",
       "3     512GB  49990  \n",
       "4     512GB  49990  "
      ]
     },
     "execution_count": 2,
     "metadata": {},
     "output_type": "execute_result"
    }
   ],
   "source": [
    "df=pd.read_csv('laptop_price.csv')\n",
    "df.head()"
   ]
  },
  {
   "cell_type": "code",
   "execution_count": 3,
   "id": "41305f51",
   "metadata": {},
   "outputs": [],
   "source": [
    "data=df.copy()"
   ]
  },
  {
   "cell_type": "markdown",
   "id": "24ac76f4",
   "metadata": {},
   "source": [
    "### Convert categorical columns to numeric column"
   ]
  },
  {
   "cell_type": "markdown",
   "id": "38913daa",
   "metadata": {},
   "source": [
    "#### BRAND"
   ]
  },
  {
   "cell_type": "code",
   "execution_count": 4,
   "id": "022c4327",
   "metadata": {},
   "outputs": [
    {
     "data": {
      "text/plain": [
       "array(['Lenovo', 'ASUS', 'HP', 'DELL', 'RedmiBook', 'realme', 'acer',\n",
       "       'MSI', 'APPLE', 'Infinix', 'SAMSUNG', 'Ultimus', 'Vaio',\n",
       "       'GIGABYTE', 'Nokia', 'ALIENWARE'], dtype=object)"
      ]
     },
     "execution_count": 4,
     "metadata": {},
     "output_type": "execute_result"
    }
   ],
   "source": [
    "data['Brand'].unique()"
   ]
  },
  {
   "cell_type": "code",
   "execution_count": 5,
   "id": "7490744e",
   "metadata": {},
   "outputs": [
    {
     "data": {
      "text/plain": [
       "array([ 1,  2,  3,  4,  5,  6,  7,  8,  9, 10, 11, 12, 13, 14, 15, 16],\n",
       "      dtype=int64)"
      ]
     },
     "execution_count": 5,
     "metadata": {},
     "output_type": "execute_result"
    }
   ],
   "source": [
    "def replace_brand(brand):\n",
    "    if brand=='Lenovo':\n",
    "        return 1\n",
    "    elif brand=='ASUS':\n",
    "        return 2\n",
    "    elif brand=='HP':\n",
    "        return 3\n",
    "    elif brand=='DELL':\n",
    "        return 4\n",
    "    elif brand=='RedmiBook':\n",
    "        return 5\n",
    "    elif brand=='realme':\n",
    "        return 6\n",
    "    elif brand=='acer':\n",
    "        return 7\n",
    "    elif brand=='MSI':\n",
    "        return 8\n",
    "    elif brand=='APPLE':\n",
    "        return 9\n",
    "    elif brand=='Infinix':\n",
    "        return 10\n",
    "    elif brand=='SAMSUNG':\n",
    "        return 11\n",
    "    elif brand=='Ultimus':\n",
    "        return 12\n",
    "    elif brand=='Vaio':\n",
    "        return 13\n",
    "    elif brand=='GIGABYTE':\n",
    "        return 14\n",
    "    elif brand=='Nokia':\n",
    "        return 15\n",
    "    elif brand=='ALIENWARE':\n",
    "        return 16\n",
    "    \n",
    "data['Brand']=data['Brand'].apply(replace_brand)\n",
    "data['Brand'].unique()"
   ]
  },
  {
   "cell_type": "markdown",
   "id": "80eb483e",
   "metadata": {},
   "source": [
    "#### PROCESSOR TYPE"
   ]
  },
  {
   "cell_type": "code",
   "execution_count": 6,
   "id": "b7400375",
   "metadata": {},
   "outputs": [
    {
     "data": {
      "text/plain": [
       "array(['Intel Core i3', 'AMD Ryzen 5 Hexa Core', 'Intel Core i5',\n",
       "       'Intel i3-1115G4', 'AMD Ryzen 7 Quad Core',\n",
       "       'AMD Ryzen 5 Quad Core', 'AMD Ryzen 9 Octa Core',\n",
       "       'AMD Ryzen 7 Octa Core', 'Apple M1', 'Intel Celeron Dual Core',\n",
       "       'AMD Ryzen 3 Dual Core', 'AMD Athlon Dual Core',\n",
       "       'Intel Evo Core i5', 'AMD Ryzen 3 Quad Core', 'Apple M2',\n",
       "       'AMD Ryzen R5-5600H', 'Intel Celeron Quad Core', 'Intel Core i7',\n",
       "       'Apple M1 Pro', 'Qualcomm Snapdragon 7c Gen 2', 'Intel PQC-N5030',\n",
       "       'Gen Intel Evo Core i5', 'Apple M1 Max', 'Intel Core i9',\n",
       "       'Intel Pentium Silver', 'Intel i3-1125G4', 'AMD Ryzen 5-3450U',\n",
       "       'AMD Ryzen 5 Dual Core', 'Intel Core i5-1135G7',\n",
       "       'Intel Core i3-1005G1', 'Intel Pentium Quad Core',\n",
       "       'Intel Core i5 Pro', 'AMD Dual Core', 'Intel i7-11800H',\n",
       "       'AMD Ryzen 3 Hexa Core'], dtype=object)"
      ]
     },
     "execution_count": 6,
     "metadata": {},
     "output_type": "execute_result"
    }
   ],
   "source": [
    "data['Processor Type'].unique()"
   ]
  },
  {
   "cell_type": "code",
   "execution_count": 7,
   "id": "da90b05a",
   "metadata": {},
   "outputs": [
    {
     "data": {
      "text/plain": [
       "35"
      ]
     },
     "execution_count": 7,
     "metadata": {},
     "output_type": "execute_result"
    }
   ],
   "source": [
    "data['Processor Type'].nunique()"
   ]
  },
  {
   "cell_type": "markdown",
   "id": "1c226b4d",
   "metadata": {},
   "source": [
    "**Ther are 35 categories in Processor type, for better Model performance its better to drop this column.**"
   ]
  },
  {
   "cell_type": "markdown",
   "id": "8d0f9677",
   "metadata": {},
   "source": [
    "#### PROCESSOR TYPE"
   ]
  },
  {
   "cell_type": "code",
   "execution_count": 8,
   "id": "b0ee0ab0",
   "metadata": {},
   "outputs": [],
   "source": [
    "data.drop('Processor Type', axis=1, inplace=True)"
   ]
  },
  {
   "cell_type": "markdown",
   "id": "c2ca502a",
   "metadata": {},
   "source": [
    "#### OPERATING SYSTEM"
   ]
  },
  {
   "cell_type": "code",
   "execution_count": 9,
   "id": "53797e0c",
   "metadata": {},
   "outputs": [
    {
     "data": {
      "text/plain": [
       "array(['Windows 11', 'Windows 10', 'Mac', 'Chrome', 'DOS'], dtype=object)"
      ]
     },
     "execution_count": 9,
     "metadata": {},
     "output_type": "execute_result"
    }
   ],
   "source": [
    "data['Operating System'].unique()"
   ]
  },
  {
   "cell_type": "code",
   "execution_count": 10,
   "id": "99941db4",
   "metadata": {},
   "outputs": [
    {
     "data": {
      "text/plain": [
       "array([1, 2, 3, 4, 5], dtype=int64)"
      ]
     },
     "execution_count": 10,
     "metadata": {},
     "output_type": "execute_result"
    }
   ],
   "source": [
    "def replace_os(os):\n",
    "    if os=='Windows 11':\n",
    "        return 1\n",
    "    elif os=='Windows 10':\n",
    "        return 2\n",
    "    elif os=='Mac':\n",
    "        return 3\n",
    "    elif os=='Chrome':\n",
    "        return 4\n",
    "    elif os=='DOS':\n",
    "        return 5\n",
    "    \n",
    "data['Operating System']=data['Operating System'].apply(replace_os)\n",
    "data['Operating System'].unique()"
   ]
  },
  {
   "cell_type": "markdown",
   "id": "e5489e17",
   "metadata": {},
   "source": [
    "#### RAM TYPE"
   ]
  },
  {
   "cell_type": "code",
   "execution_count": 11,
   "id": "0eb6c2ef",
   "metadata": {},
   "outputs": [
    {
     "data": {
      "text/plain": [
       "array(['DDR4', 'DDR5', 'LPDDR4', 'Unified', 'LPDDR4X', 'LPDDR5', 'LPDDR3'],\n",
       "      dtype=object)"
      ]
     },
     "execution_count": 11,
     "metadata": {},
     "output_type": "execute_result"
    }
   ],
   "source": [
    "data['RAM Type'].unique()"
   ]
  },
  {
   "cell_type": "code",
   "execution_count": 12,
   "id": "cb4a3da7",
   "metadata": {},
   "outputs": [
    {
     "data": {
      "text/plain": [
       "array([1, 2, 3, 4, 5, 6, 7], dtype=int64)"
      ]
     },
     "execution_count": 12,
     "metadata": {},
     "output_type": "execute_result"
    }
   ],
   "source": [
    "def replace_ram_type(ram_type):\n",
    "    if ram_type=='DDR4':\n",
    "        return 1\n",
    "    elif ram_type=='DDR5':\n",
    "        return 2\n",
    "    elif ram_type=='LPDDR4':\n",
    "        return 3\n",
    "    elif ram_type=='Unified':\n",
    "        return 4\n",
    "    elif ram_type=='LPDDR4X':\n",
    "        return 5\n",
    "    elif ram_type=='LPDDR5':\n",
    "        return 6\n",
    "    elif ram_type=='LPDDR3':\n",
    "        return 7\n",
    "    \n",
    "data['RAM Type']=data['RAM Type'].apply(replace_ram_type)\n",
    "data['RAM Type'].unique()"
   ]
  },
  {
   "cell_type": "markdown",
   "id": "1cd06ad6",
   "metadata": {},
   "source": [
    "#### RAM SIZE"
   ]
  },
  {
   "cell_type": "code",
   "execution_count": 13,
   "id": "3c6faa89",
   "metadata": {},
   "outputs": [
    {
     "data": {
      "text/plain": [
       "array(['8GB', '16GB', '4GB', '32GB'], dtype=object)"
      ]
     },
     "execution_count": 13,
     "metadata": {},
     "output_type": "execute_result"
    }
   ],
   "source": [
    "data['RAM Size'].unique()"
   ]
  },
  {
   "cell_type": "code",
   "execution_count": 14,
   "id": "d433c8b6",
   "metadata": {},
   "outputs": [
    {
     "data": {
      "text/plain": [
       "array([1, 2, 3, 4], dtype=int64)"
      ]
     },
     "execution_count": 14,
     "metadata": {},
     "output_type": "execute_result"
    }
   ],
   "source": [
    "def replace_ram_size(ram_size):\n",
    "    if ram_size=='8GB':\n",
    "        return 1\n",
    "    elif ram_size=='16GB':\n",
    "        return 2\n",
    "    elif ram_size=='4GB':\n",
    "        return 3\n",
    "    elif ram_size=='32GB':\n",
    "        return 4\n",
    "\n",
    "    \n",
    "data['RAM Size']=data['RAM Size'].apply(replace_ram_size)\n",
    "data['RAM Size'].unique()"
   ]
  },
  {
   "cell_type": "markdown",
   "id": "f2b6928c",
   "metadata": {},
   "source": [
    "#### DISC TYPE"
   ]
  },
  {
   "cell_type": "code",
   "execution_count": 15,
   "id": "48bee205",
   "metadata": {},
   "outputs": [
    {
     "data": {
      "text/plain": [
       "array(['SSD', 'HDD', 'EMMC'], dtype=object)"
      ]
     },
     "execution_count": 15,
     "metadata": {},
     "output_type": "execute_result"
    }
   ],
   "source": [
    "data['Disc Type'].unique()"
   ]
  },
  {
   "cell_type": "code",
   "execution_count": 16,
   "id": "1b90348a",
   "metadata": {},
   "outputs": [
    {
     "data": {
      "text/plain": [
       "array([1, 2, 3], dtype=int64)"
      ]
     },
     "execution_count": 16,
     "metadata": {},
     "output_type": "execute_result"
    }
   ],
   "source": [
    "def replace_disc_type(disc_type):\n",
    "    if disc_type=='SSD':\n",
    "        return 1\n",
    "    elif disc_type=='HDD':\n",
    "        return 2\n",
    "    elif disc_type=='EMMC':\n",
    "        return 3\n",
    "\n",
    "    \n",
    "data['Disc Type']=data['Disc Type'].apply(replace_disc_type)\n",
    "data['Disc Type'].unique()"
   ]
  },
  {
   "cell_type": "markdown",
   "id": "7f19e12e",
   "metadata": {},
   "source": [
    "#### DISC SIZE"
   ]
  },
  {
   "cell_type": "code",
   "execution_count": 17,
   "id": "827bfc9c",
   "metadata": {},
   "outputs": [
    {
     "data": {
      "text/plain": [
       "array(['256GB', '512GB', '1TB', '128GB', '64GB', '32GB', '2TB'],\n",
       "      dtype=object)"
      ]
     },
     "execution_count": 17,
     "metadata": {},
     "output_type": "execute_result"
    }
   ],
   "source": [
    "data['Disc Size'].unique()"
   ]
  },
  {
   "cell_type": "code",
   "execution_count": 18,
   "id": "7b27ce7e",
   "metadata": {},
   "outputs": [
    {
     "data": {
      "text/plain": [
       "array([1, 2, 3, 4, 5, 6, 7], dtype=int64)"
      ]
     },
     "execution_count": 18,
     "metadata": {},
     "output_type": "execute_result"
    }
   ],
   "source": [
    "def replace_disc_size(disc_size):\n",
    "    if disc_size=='256GB':\n",
    "        return 1\n",
    "    elif disc_size=='512GB':\n",
    "        return 2\n",
    "    elif disc_size=='1TB':\n",
    "        return 3\n",
    "    elif disc_size=='128GB':\n",
    "        return 4\n",
    "    elif disc_size=='64GB':\n",
    "        return 5\n",
    "    elif disc_size=='32GB':\n",
    "        return 6\n",
    "    elif disc_size=='2TB':\n",
    "        return 7\n",
    "    \n",
    "data['Disc Size']=data['Disc Size'].apply(replace_disc_size)\n",
    "data['Disc Size'].unique()"
   ]
  },
  {
   "cell_type": "code",
   "execution_count": 19,
   "id": "383021f5",
   "metadata": {
    "scrolled": true
   },
   "outputs": [
    {
     "data": {
      "text/html": [
       "<div>\n",
       "<style scoped>\n",
       "    .dataframe tbody tr th:only-of-type {\n",
       "        vertical-align: middle;\n",
       "    }\n",
       "\n",
       "    .dataframe tbody tr th {\n",
       "        vertical-align: top;\n",
       "    }\n",
       "\n",
       "    .dataframe thead th {\n",
       "        text-align: right;\n",
       "    }\n",
       "</style>\n",
       "<table border=\"1\" class=\"dataframe\">\n",
       "  <thead>\n",
       "    <tr style=\"text-align: right;\">\n",
       "      <th></th>\n",
       "      <th>Brand</th>\n",
       "      <th>Operating System</th>\n",
       "      <th>RAM Type</th>\n",
       "      <th>RAM Size</th>\n",
       "      <th>Disc Type</th>\n",
       "      <th>Disc Size</th>\n",
       "      <th>MRP</th>\n",
       "    </tr>\n",
       "  </thead>\n",
       "  <tbody>\n",
       "    <tr>\n",
       "      <th>0</th>\n",
       "      <td>1</td>\n",
       "      <td>1</td>\n",
       "      <td>1</td>\n",
       "      <td>1</td>\n",
       "      <td>1</td>\n",
       "      <td>1</td>\n",
       "      <td>36990</td>\n",
       "    </tr>\n",
       "    <tr>\n",
       "      <th>1</th>\n",
       "      <td>1</td>\n",
       "      <td>1</td>\n",
       "      <td>1</td>\n",
       "      <td>1</td>\n",
       "      <td>1</td>\n",
       "      <td>2</td>\n",
       "      <td>39990</td>\n",
       "    </tr>\n",
       "    <tr>\n",
       "      <th>2</th>\n",
       "      <td>2</td>\n",
       "      <td>1</td>\n",
       "      <td>1</td>\n",
       "      <td>1</td>\n",
       "      <td>1</td>\n",
       "      <td>2</td>\n",
       "      <td>32990</td>\n",
       "    </tr>\n",
       "    <tr>\n",
       "      <th>3</th>\n",
       "      <td>3</td>\n",
       "      <td>2</td>\n",
       "      <td>1</td>\n",
       "      <td>1</td>\n",
       "      <td>1</td>\n",
       "      <td>2</td>\n",
       "      <td>49990</td>\n",
       "    </tr>\n",
       "    <tr>\n",
       "      <th>4</th>\n",
       "      <td>2</td>\n",
       "      <td>1</td>\n",
       "      <td>1</td>\n",
       "      <td>1</td>\n",
       "      <td>1</td>\n",
       "      <td>2</td>\n",
       "      <td>49990</td>\n",
       "    </tr>\n",
       "  </tbody>\n",
       "</table>\n",
       "</div>"
      ],
      "text/plain": [
       "   Brand  Operating System  RAM Type  RAM Size  Disc Type  Disc Size    MRP\n",
       "0      1                 1         1         1          1          1  36990\n",
       "1      1                 1         1         1          1          2  39990\n",
       "2      2                 1         1         1          1          2  32990\n",
       "3      3                 2         1         1          1          2  49990\n",
       "4      2                 1         1         1          1          2  49990"
      ]
     },
     "execution_count": 19,
     "metadata": {},
     "output_type": "execute_result"
    }
   ],
   "source": [
    "data.head()"
   ]
  },
  {
   "cell_type": "markdown",
   "id": "c9ceca71",
   "metadata": {},
   "source": [
    "### Split into dependent and independent"
   ]
  },
  {
   "cell_type": "code",
   "execution_count": 20,
   "id": "2a394e32",
   "metadata": {},
   "outputs": [],
   "source": [
    "X=data.drop('MRP', axis=1).values\n",
    "y=data['MRP'].values"
   ]
  },
  {
   "cell_type": "code",
   "execution_count": 21,
   "id": "ee30411d",
   "metadata": {
    "scrolled": true
   },
   "outputs": [
    {
     "name": "stdout",
     "output_type": "stream",
     "text": [
      "[[-0.80688224 -0.46911664 -0.42107258 -0.76754824 -0.28058001 -1.45873792]\n",
      " [-0.80688224 -0.46911664 -0.42107258 -0.76754824 -0.28058001 -0.31711694]\n",
      " [-0.44104142 -0.46911664 -0.42107258 -0.76754824 -0.28058001 -0.31711694]\n",
      " ...\n",
      " [-0.44104142 -0.46911664  0.46281156  0.65676808 -0.28058001  0.82450404]\n",
      " [-0.44104142 -0.46911664  3.99834813  0.65676808 -0.28058001 -0.31711694]\n",
      " [-0.80688224  1.21970327 -0.42107258 -0.76754824  2.69026717  0.82450404]]\n"
     ]
    }
   ],
   "source": [
    "from sklearn.preprocessing import StandardScaler, MinMaxScaler\n",
    "std=StandardScaler()\n",
    "X=std.fit_transform(X)\n",
    "\n",
    "print(X)"
   ]
  },
  {
   "cell_type": "markdown",
   "id": "aba2bc0a",
   "metadata": {},
   "source": [
    "### Split into training and testing set"
   ]
  },
  {
   "cell_type": "code",
   "execution_count": 22,
   "id": "2ebde886",
   "metadata": {},
   "outputs": [
    {
     "name": "stdout",
     "output_type": "stream",
     "text": [
      "(576, 6)\n",
      "(576,)\n",
      "(144, 6)\n",
      "(144,)\n"
     ]
    }
   ],
   "source": [
    "from sklearn.model_selection import train_test_split\n",
    "\n",
    "x_train, x_test, y_train, y_test = train_test_split(X, y, test_size=0.2, random_state=42)\n",
    "print(x_train.shape)\n",
    "print(y_train.shape)\n",
    "print(x_test.shape)\n",
    "print(y_test.shape)"
   ]
  },
  {
   "cell_type": "markdown",
   "id": "a2238e05",
   "metadata": {},
   "source": [
    "### Machine Learning Regression Models"
   ]
  },
  {
   "cell_type": "markdown",
   "id": "53c8f5aa",
   "metadata": {},
   "source": [
    "### 1. Linear Regression"
   ]
  },
  {
   "cell_type": "code",
   "execution_count": 23,
   "id": "33b9bbcf",
   "metadata": {},
   "outputs": [],
   "source": [
    "from sklearn.linear_model import LinearRegression\n",
    "lr=LinearRegression()\n",
    "lr=lr.fit(x_train,y_train)\n",
    "y_pred=lr.predict(x_test)"
   ]
  },
  {
   "cell_type": "code",
   "execution_count": 24,
   "id": "796d4bbd",
   "metadata": {},
   "outputs": [
    {
     "data": {
      "text/html": [
       "<div>\n",
       "<style scoped>\n",
       "    .dataframe tbody tr th:only-of-type {\n",
       "        vertical-align: middle;\n",
       "    }\n",
       "\n",
       "    .dataframe tbody tr th {\n",
       "        vertical-align: top;\n",
       "    }\n",
       "\n",
       "    .dataframe thead th {\n",
       "        text-align: right;\n",
       "    }\n",
       "</style>\n",
       "<table border=\"1\" class=\"dataframe\">\n",
       "  <thead>\n",
       "    <tr style=\"text-align: right;\">\n",
       "      <th></th>\n",
       "      <th>Model</th>\n",
       "      <th>MSE</th>\n",
       "      <th>RMSE</th>\n",
       "      <th>R2 Score</th>\n",
       "    </tr>\n",
       "  </thead>\n",
       "  <tbody>\n",
       "    <tr>\n",
       "      <th>0</th>\n",
       "      <td>Linear Regression</td>\n",
       "      <td>1.124345e+09</td>\n",
       "      <td>33531.25</td>\n",
       "      <td>0.529182</td>\n",
       "    </tr>\n",
       "  </tbody>\n",
       "</table>\n",
       "</div>"
      ],
      "text/plain": [
       "               Model           MSE      RMSE  R2 Score\n",
       "0  Linear Regression  1.124345e+09  33531.25  0.529182"
      ]
     },
     "execution_count": 24,
     "metadata": {},
     "output_type": "execute_result"
    }
   ],
   "source": [
    "from sklearn.metrics import mean_squared_error as mse, r2_score\n",
    "\n",
    "MSE=mse(y_pred,y_test).round(2)\n",
    "RMSE=np.sqrt(MSE).round(2)\n",
    "R2=r2_score(y_pred, y_test)\n",
    "\n",
    "results=pd.DataFrame({\"Model\":[\"Linear Regression\"], \"MSE\":[MSE], \"RMSE\":[RMSE], \"R2 Score\":[R2]})\n",
    "results"
   ]
  },
  {
   "cell_type": "markdown",
   "id": "d984c67e",
   "metadata": {},
   "source": [
    "### 2. Decision Tree"
   ]
  },
  {
   "cell_type": "code",
   "execution_count": 25,
   "id": "815b8de8",
   "metadata": {},
   "outputs": [],
   "source": [
    "from sklearn.tree import DecisionTreeRegressor\n",
    "\n",
    "dt=DecisionTreeRegressor(random_state=0)\n",
    "dt.fit(x_train,y_train)\n",
    "y_pred=dt.predict(x_test)"
   ]
  },
  {
   "cell_type": "code",
   "execution_count": 26,
   "id": "0ad6a202",
   "metadata": {},
   "outputs": [
    {
     "data": {
      "text/html": [
       "<div>\n",
       "<style scoped>\n",
       "    .dataframe tbody tr th:only-of-type {\n",
       "        vertical-align: middle;\n",
       "    }\n",
       "\n",
       "    .dataframe tbody tr th {\n",
       "        vertical-align: top;\n",
       "    }\n",
       "\n",
       "    .dataframe thead th {\n",
       "        text-align: right;\n",
       "    }\n",
       "</style>\n",
       "<table border=\"1\" class=\"dataframe\">\n",
       "  <thead>\n",
       "    <tr style=\"text-align: right;\">\n",
       "      <th></th>\n",
       "      <th>Model</th>\n",
       "      <th>MSE</th>\n",
       "      <th>RMSE</th>\n",
       "      <th>R2 Score</th>\n",
       "    </tr>\n",
       "  </thead>\n",
       "  <tbody>\n",
       "    <tr>\n",
       "      <th>0</th>\n",
       "      <td>Linear Regression</td>\n",
       "      <td>1.124345e+09</td>\n",
       "      <td>33531.25</td>\n",
       "      <td>0.529182</td>\n",
       "    </tr>\n",
       "    <tr>\n",
       "      <th>0</th>\n",
       "      <td>Decision Tree Regression</td>\n",
       "      <td>7.624300e+08</td>\n",
       "      <td>27612.13</td>\n",
       "      <td>0.797777</td>\n",
       "    </tr>\n",
       "  </tbody>\n",
       "</table>\n",
       "</div>"
      ],
      "text/plain": [
       "                      Model           MSE      RMSE  R2 Score\n",
       "0         Linear Regression  1.124345e+09  33531.25  0.529182\n",
       "0  Decision Tree Regression  7.624300e+08  27612.13  0.797777"
      ]
     },
     "execution_count": 26,
     "metadata": {},
     "output_type": "execute_result"
    }
   ],
   "source": [
    "MSE=mse(y_pred,y_test).round(2)\n",
    "RMSE=np.sqrt(MSE).round(2)\n",
    "R2=r2_score(y_pred, y_test)\n",
    "\n",
    "result=pd.DataFrame({\"Model\":[\"Decision Tree Regression\"], \"MSE\":[MSE], \"RMSE\":[RMSE], \"R2 Score\":[R2]})\n",
    "\n",
    "results=pd.concat([results,result])\n",
    "results"
   ]
  },
  {
   "cell_type": "markdown",
   "id": "35b3cd1e",
   "metadata": {},
   "source": [
    "### 3. Random Forest"
   ]
  },
  {
   "cell_type": "code",
   "execution_count": 27,
   "id": "bcf527ea",
   "metadata": {},
   "outputs": [],
   "source": [
    "from sklearn.ensemble import RandomForestRegressor\n",
    "\n",
    "rf=RandomForestRegressor(n_estimators=100)\n",
    "rf.fit(x_train,y_train)\n",
    "y_pred=rf.predict(x_test)"
   ]
  },
  {
   "cell_type": "code",
   "execution_count": 28,
   "id": "8e4ab8b6",
   "metadata": {},
   "outputs": [
    {
     "data": {
      "text/html": [
       "<div>\n",
       "<style scoped>\n",
       "    .dataframe tbody tr th:only-of-type {\n",
       "        vertical-align: middle;\n",
       "    }\n",
       "\n",
       "    .dataframe tbody tr th {\n",
       "        vertical-align: top;\n",
       "    }\n",
       "\n",
       "    .dataframe thead th {\n",
       "        text-align: right;\n",
       "    }\n",
       "</style>\n",
       "<table border=\"1\" class=\"dataframe\">\n",
       "  <thead>\n",
       "    <tr style=\"text-align: right;\">\n",
       "      <th></th>\n",
       "      <th>Model</th>\n",
       "      <th>MSE</th>\n",
       "      <th>RMSE</th>\n",
       "      <th>R2 Score</th>\n",
       "    </tr>\n",
       "  </thead>\n",
       "  <tbody>\n",
       "    <tr>\n",
       "      <th>0</th>\n",
       "      <td>Linear Regression</td>\n",
       "      <td>1.124345e+09</td>\n",
       "      <td>33531.25</td>\n",
       "      <td>0.529182</td>\n",
       "    </tr>\n",
       "    <tr>\n",
       "      <th>0</th>\n",
       "      <td>Decision Tree Regression</td>\n",
       "      <td>7.624300e+08</td>\n",
       "      <td>27612.13</td>\n",
       "      <td>0.797777</td>\n",
       "    </tr>\n",
       "    <tr>\n",
       "      <th>0</th>\n",
       "      <td>Random Forest Regression</td>\n",
       "      <td>6.260162e+08</td>\n",
       "      <td>25020.32</td>\n",
       "      <td>0.825008</td>\n",
       "    </tr>\n",
       "  </tbody>\n",
       "</table>\n",
       "</div>"
      ],
      "text/plain": [
       "                      Model           MSE      RMSE  R2 Score\n",
       "0         Linear Regression  1.124345e+09  33531.25  0.529182\n",
       "0  Decision Tree Regression  7.624300e+08  27612.13  0.797777\n",
       "0  Random Forest Regression  6.260162e+08  25020.32  0.825008"
      ]
     },
     "execution_count": 28,
     "metadata": {},
     "output_type": "execute_result"
    }
   ],
   "source": [
    "MSE=mse(y_pred,y_test).round(2)\n",
    "RMSE=np.sqrt(MSE).round(2)\n",
    "R2=r2_score(y_pred, y_test)\n",
    "\n",
    "result=pd.DataFrame({\"Model\":[\"Random Forest Regression\"], \"MSE\":[MSE], \"RMSE\":[RMSE], \"R2 Score\":[R2]})\n",
    "\n",
    "results=pd.concat([results,result])\n",
    "results"
   ]
  },
  {
   "cell_type": "markdown",
   "id": "7143790c",
   "metadata": {},
   "source": [
    "### 4. Gradient boosting"
   ]
  },
  {
   "cell_type": "code",
   "execution_count": 29,
   "id": "e50dc59f",
   "metadata": {},
   "outputs": [],
   "source": [
    "from sklearn.ensemble import GradientBoostingRegressor\n",
    "\n",
    "grb= GradientBoostingRegressor(n_estimators =100,random_state =0) \n",
    "grb.fit(x_train, y_train) \n",
    "y_pred = grb.predict(x_test)"
   ]
  },
  {
   "cell_type": "code",
   "execution_count": 30,
   "id": "9fb93f28",
   "metadata": {
    "scrolled": true
   },
   "outputs": [
    {
     "data": {
      "text/html": [
       "<div>\n",
       "<style scoped>\n",
       "    .dataframe tbody tr th:only-of-type {\n",
       "        vertical-align: middle;\n",
       "    }\n",
       "\n",
       "    .dataframe tbody tr th {\n",
       "        vertical-align: top;\n",
       "    }\n",
       "\n",
       "    .dataframe thead th {\n",
       "        text-align: right;\n",
       "    }\n",
       "</style>\n",
       "<table border=\"1\" class=\"dataframe\">\n",
       "  <thead>\n",
       "    <tr style=\"text-align: right;\">\n",
       "      <th></th>\n",
       "      <th>Model</th>\n",
       "      <th>MSE</th>\n",
       "      <th>RMSE</th>\n",
       "      <th>R2 Score</th>\n",
       "    </tr>\n",
       "  </thead>\n",
       "  <tbody>\n",
       "    <tr>\n",
       "      <th>0</th>\n",
       "      <td>Linear Regression</td>\n",
       "      <td>1.124345e+09</td>\n",
       "      <td>33531.25</td>\n",
       "      <td>0.529182</td>\n",
       "    </tr>\n",
       "    <tr>\n",
       "      <th>0</th>\n",
       "      <td>Decision Tree Regression</td>\n",
       "      <td>7.624300e+08</td>\n",
       "      <td>27612.13</td>\n",
       "      <td>0.797777</td>\n",
       "    </tr>\n",
       "    <tr>\n",
       "      <th>0</th>\n",
       "      <td>Random Forest Regression</td>\n",
       "      <td>6.260162e+08</td>\n",
       "      <td>25020.32</td>\n",
       "      <td>0.825008</td>\n",
       "    </tr>\n",
       "    <tr>\n",
       "      <th>0</th>\n",
       "      <td>Gradient Boosting Regression</td>\n",
       "      <td>6.055221e+08</td>\n",
       "      <td>24607.36</td>\n",
       "      <td>0.843721</td>\n",
       "    </tr>\n",
       "  </tbody>\n",
       "</table>\n",
       "</div>"
      ],
      "text/plain": [
       "                          Model           MSE      RMSE  R2 Score\n",
       "0             Linear Regression  1.124345e+09  33531.25  0.529182\n",
       "0      Decision Tree Regression  7.624300e+08  27612.13  0.797777\n",
       "0      Random Forest Regression  6.260162e+08  25020.32  0.825008\n",
       "0  Gradient Boosting Regression  6.055221e+08  24607.36  0.843721"
      ]
     },
     "execution_count": 30,
     "metadata": {},
     "output_type": "execute_result"
    }
   ],
   "source": [
    "MSE=mse(y_pred,y_test).round(2)\n",
    "RMSE=np.sqrt(MSE).round(2)\n",
    "R2=r2_score(y_pred, y_test)\n",
    "\n",
    "result=pd.DataFrame({\"Model\":[\"Gradient Boosting Regression\"], \"MSE\":[MSE], \"RMSE\":[RMSE], \"R2 Score\":[R2]})\n",
    "\n",
    "results=pd.concat([results,result])\n",
    "results"
   ]
  },
  {
   "cell_type": "markdown",
   "id": "b73c284a",
   "metadata": {},
   "source": [
    "### 5. ADA Boost"
   ]
  },
  {
   "cell_type": "code",
   "execution_count": 31,
   "id": "aaab5b62",
   "metadata": {},
   "outputs": [],
   "source": [
    "from sklearn.ensemble import AdaBoostRegressor\n",
    "\n",
    "ada=AdaBoostRegressor(n_estimators=100,learning_rate=0.001,random_state=0)\n",
    "ada.fit(x_train,y_train)\n",
    "y_pred=ada.predict(x_test)"
   ]
  },
  {
   "cell_type": "code",
   "execution_count": 32,
   "id": "a85d44f2",
   "metadata": {
    "scrolled": true
   },
   "outputs": [
    {
     "data": {
      "text/html": [
       "<div>\n",
       "<style scoped>\n",
       "    .dataframe tbody tr th:only-of-type {\n",
       "        vertical-align: middle;\n",
       "    }\n",
       "\n",
       "    .dataframe tbody tr th {\n",
       "        vertical-align: top;\n",
       "    }\n",
       "\n",
       "    .dataframe thead th {\n",
       "        text-align: right;\n",
       "    }\n",
       "</style>\n",
       "<table border=\"1\" class=\"dataframe\">\n",
       "  <thead>\n",
       "    <tr style=\"text-align: right;\">\n",
       "      <th></th>\n",
       "      <th>Model</th>\n",
       "      <th>MSE</th>\n",
       "      <th>RMSE</th>\n",
       "      <th>R2 Score</th>\n",
       "    </tr>\n",
       "  </thead>\n",
       "  <tbody>\n",
       "    <tr>\n",
       "      <th>0</th>\n",
       "      <td>Linear Regression</td>\n",
       "      <td>1.124345e+09</td>\n",
       "      <td>33531.25</td>\n",
       "      <td>0.529182</td>\n",
       "    </tr>\n",
       "    <tr>\n",
       "      <th>0</th>\n",
       "      <td>Decision Tree Regression</td>\n",
       "      <td>7.624300e+08</td>\n",
       "      <td>27612.13</td>\n",
       "      <td>0.797777</td>\n",
       "    </tr>\n",
       "    <tr>\n",
       "      <th>0</th>\n",
       "      <td>Random Forest Regression</td>\n",
       "      <td>6.260162e+08</td>\n",
       "      <td>25020.32</td>\n",
       "      <td>0.825008</td>\n",
       "    </tr>\n",
       "    <tr>\n",
       "      <th>0</th>\n",
       "      <td>Gradient Boosting Regression</td>\n",
       "      <td>6.055221e+08</td>\n",
       "      <td>24607.36</td>\n",
       "      <td>0.843721</td>\n",
       "    </tr>\n",
       "    <tr>\n",
       "      <th>0</th>\n",
       "      <td>ADA Boost Regression</td>\n",
       "      <td>7.620817e+08</td>\n",
       "      <td>27605.83</td>\n",
       "      <td>0.741301</td>\n",
       "    </tr>\n",
       "  </tbody>\n",
       "</table>\n",
       "</div>"
      ],
      "text/plain": [
       "                          Model           MSE      RMSE  R2 Score\n",
       "0             Linear Regression  1.124345e+09  33531.25  0.529182\n",
       "0      Decision Tree Regression  7.624300e+08  27612.13  0.797777\n",
       "0      Random Forest Regression  6.260162e+08  25020.32  0.825008\n",
       "0  Gradient Boosting Regression  6.055221e+08  24607.36  0.843721\n",
       "0          ADA Boost Regression  7.620817e+08  27605.83  0.741301"
      ]
     },
     "execution_count": 32,
     "metadata": {},
     "output_type": "execute_result"
    }
   ],
   "source": [
    "MSE=mse(y_pred,y_test).round(2)\n",
    "RMSE=np.sqrt(MSE).round(2)\n",
    "R2=r2_score(y_pred, y_test)\n",
    "\n",
    "result=pd.DataFrame({\"Model\":[\"ADA Boost Regression\"], \"MSE\":[MSE], \"RMSE\":[RMSE], \"R2 Score\":[R2]})\n",
    "\n",
    "results=pd.concat([results,result])\n",
    "results"
   ]
  },
  {
   "cell_type": "markdown",
   "id": "3ae19c8c",
   "metadata": {},
   "source": [
    "### XG boost"
   ]
  },
  {
   "cell_type": "code",
   "execution_count": 33,
   "id": "3bab066e",
   "metadata": {},
   "outputs": [],
   "source": [
    "from xgboost import XGBRegressor\n",
    "\n",
    "xgb=XGBRegressor(verbosity=0) \n",
    "xgb.fit(x_train,y_train)\n",
    "y_pred=xgb.predict(x_test)"
   ]
  },
  {
   "cell_type": "code",
   "execution_count": 34,
   "id": "1a69e784",
   "metadata": {},
   "outputs": [
    {
     "data": {
      "text/html": [
       "<div>\n",
       "<style scoped>\n",
       "    .dataframe tbody tr th:only-of-type {\n",
       "        vertical-align: middle;\n",
       "    }\n",
       "\n",
       "    .dataframe tbody tr th {\n",
       "        vertical-align: top;\n",
       "    }\n",
       "\n",
       "    .dataframe thead th {\n",
       "        text-align: right;\n",
       "    }\n",
       "</style>\n",
       "<table border=\"1\" class=\"dataframe\">\n",
       "  <thead>\n",
       "    <tr style=\"text-align: right;\">\n",
       "      <th></th>\n",
       "      <th>Model</th>\n",
       "      <th>MSE</th>\n",
       "      <th>RMSE</th>\n",
       "      <th>R2 Score</th>\n",
       "    </tr>\n",
       "  </thead>\n",
       "  <tbody>\n",
       "    <tr>\n",
       "      <th>0</th>\n",
       "      <td>Linear Regression</td>\n",
       "      <td>1.124345e+09</td>\n",
       "      <td>33531.25</td>\n",
       "      <td>0.529182</td>\n",
       "    </tr>\n",
       "    <tr>\n",
       "      <th>0</th>\n",
       "      <td>Decision Tree Regression</td>\n",
       "      <td>7.624300e+08</td>\n",
       "      <td>27612.13</td>\n",
       "      <td>0.797777</td>\n",
       "    </tr>\n",
       "    <tr>\n",
       "      <th>0</th>\n",
       "      <td>Random Forest Regression</td>\n",
       "      <td>6.260162e+08</td>\n",
       "      <td>25020.32</td>\n",
       "      <td>0.825008</td>\n",
       "    </tr>\n",
       "    <tr>\n",
       "      <th>0</th>\n",
       "      <td>Gradient Boosting Regression</td>\n",
       "      <td>6.055221e+08</td>\n",
       "      <td>24607.36</td>\n",
       "      <td>0.843721</td>\n",
       "    </tr>\n",
       "    <tr>\n",
       "      <th>0</th>\n",
       "      <td>ADA Boost Regression</td>\n",
       "      <td>7.620817e+08</td>\n",
       "      <td>27605.83</td>\n",
       "      <td>0.741301</td>\n",
       "    </tr>\n",
       "    <tr>\n",
       "      <th>0</th>\n",
       "      <td>XG Boost Regression</td>\n",
       "      <td>5.647867e+08</td>\n",
       "      <td>23765.24</td>\n",
       "      <td>0.842765</td>\n",
       "    </tr>\n",
       "  </tbody>\n",
       "</table>\n",
       "</div>"
      ],
      "text/plain": [
       "                          Model           MSE      RMSE  R2 Score\n",
       "0             Linear Regression  1.124345e+09  33531.25  0.529182\n",
       "0      Decision Tree Regression  7.624300e+08  27612.13  0.797777\n",
       "0      Random Forest Regression  6.260162e+08  25020.32  0.825008\n",
       "0  Gradient Boosting Regression  6.055221e+08  24607.36  0.843721\n",
       "0          ADA Boost Regression  7.620817e+08  27605.83  0.741301\n",
       "0           XG Boost Regression  5.647867e+08  23765.24  0.842765"
      ]
     },
     "execution_count": 34,
     "metadata": {},
     "output_type": "execute_result"
    }
   ],
   "source": [
    "MSE=mse(y_pred,y_test).round(2)\n",
    "RMSE=np.sqrt(MSE).round(2)\n",
    "R2=r2_score(y_pred, y_test)\n",
    "\n",
    "result=pd.DataFrame({\"Model\":[\"XG Boost Regression\"], \"MSE\":[MSE], \"RMSE\":[RMSE], \"R2 Score\":[R2]})\n",
    "\n",
    "results=pd.concat([results,result])\n",
    "results"
   ]
  },
  {
   "cell_type": "markdown",
   "id": "f3540b49",
   "metadata": {},
   "source": [
    "### XG boost regressor has high R2 score and low RMSE, tune this model and select this to predict the price of Laptop."
   ]
  },
  {
   "cell_type": "code",
   "execution_count": 35,
   "id": "d06f33ac",
   "metadata": {},
   "outputs": [
    {
     "name": "stdout",
     "output_type": "stream",
     "text": [
      "507873041.81\n",
      "22536.038733770405\n",
      "85.54 %\n"
     ]
    }
   ],
   "source": [
    "xgb=XGBRegressor(learning_rate=0.15, n_estimators=50, max_leaves=0, random_state=42)\n",
    "\n",
    "xgb.fit(x_train,y_train)\n",
    "y_pred=xgb.predict(x_test)\n",
    "\n",
    "print(mse(y_pred,y_test).round(2))\n",
    "print(np.sqrt(mse(y_pred,y_test).round(2)))\n",
    "print(((r2_score(y_pred, y_test))*100).round(2),'%')"
   ]
  },
  {
   "cell_type": "markdown",
   "id": "59678d6a",
   "metadata": {},
   "source": [
    "### Save model as pickle object"
   ]
  },
  {
   "cell_type": "code",
   "execution_count": 36,
   "id": "ffb9c6a4",
   "metadata": {},
   "outputs": [],
   "source": [
    "import pickle\n",
    "pickle.dump(xgb, open('laptop_price_prediction_model.pkl', 'wb'))"
   ]
  },
  {
   "cell_type": "code",
   "execution_count": null,
   "id": "8ada0d87",
   "metadata": {},
   "outputs": [],
   "source": []
  }
 ],
 "metadata": {
  "kernelspec": {
   "display_name": "Python 3",
   "language": "python",
   "name": "python3"
  },
  "language_info": {
   "codemirror_mode": {
    "name": "ipython",
    "version": 3
   },
   "file_extension": ".py",
   "mimetype": "text/x-python",
   "name": "python",
   "nbconvert_exporter": "python",
   "pygments_lexer": "ipython3",
   "version": "3.8.8"
  }
 },
 "nbformat": 4,
 "nbformat_minor": 5
}
